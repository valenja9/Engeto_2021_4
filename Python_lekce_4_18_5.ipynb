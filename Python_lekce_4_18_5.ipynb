{
  "nbformat": 4,
  "nbformat_minor": 0,
  "metadata": {
    "colab": {
      "name": "Python_lekce_4_18_5.ipynb",
      "provenance": [],
      "authorship_tag": "ABX9TyNGAm7RTjzjYJj8Nq+is7Gr",
      "include_colab_link": true
    },
    "kernelspec": {
      "name": "python3",
      "display_name": "Python 3"
    },
    "language_info": {
      "name": "python"
    }
  },
  "cells": [
    {
      "cell_type": "markdown",
      "metadata": {
        "id": "view-in-github",
        "colab_type": "text"
      },
      "source": [
        "<a href=\"https://colab.research.google.com/github/valenja9/Engeto_2021_4/blob/master/Python_lekce_4_18_5.ipynb\" target=\"_parent\"><img src=\"https://colab.research.google.com/assets/colab-badge.svg\" alt=\"Open In Colab\"/></a>"
      ]
    },
    {
      "cell_type": "markdown",
      "metadata": {
        "id": "KdxY263_PJDb"
      },
      "source": [
        "# Vytvor program, ktery bude rozdelovat slova dle delky do jednotlivych listů. Tyto listy je třeba předgenerovat do slovníku. [2,3,4,5] slova se budou zadavat pomoci input"
      ]
    },
    {
      "cell_type": "code",
      "metadata": {
        "id": "HjS7D5RpMq8b"
      },
      "source": [
        "slovnik = dict()\n",
        "\n",
        "#1 zadat slovo do pythonu\n",
        "\n",
        "#2 vytvoreni slovniku ktery {2: [], 3: [], 4: [], 5: []}\n",
        "\n",
        "#3 {2: ['tu', 'ok], 3: ['tuz', 'okn'], 4: ['tuzk', 'okno'], 5: ['tuzka']}"
      ],
      "execution_count": null,
      "outputs": []
    },
    {
      "cell_type": "code",
      "metadata": {
        "colab": {
          "base_uri": "https://localhost:8080/"
        },
        "id": "g3fMer2XTWBk",
        "outputId": "b5561ea8-4d83-4750-ae33-95d50ac161b1"
      },
      "source": [
        "dict.fromkeys([2,3,4,5],[])"
      ],
      "execution_count": 2,
      "outputs": [
        {
          "output_type": "execute_result",
          "data": {
            "text/plain": [
              "{2: [], 3: [], 4: [], 5: []}"
            ]
          },
          "metadata": {
            "tags": []
          },
          "execution_count": 2
        }
      ]
    },
    {
      "cell_type": "code",
      "metadata": {
        "colab": {
          "base_uri": "https://localhost:8080/"
        },
        "id": "ZyA0mSR4TMVO",
        "outputId": "ec3a12c1-98a1-4706-9444-daca8d46ab7a"
      },
      "source": [
        "slovnik = dict()\n",
        "slovo = input(\"zadej slovo: \")\n",
        "delka = len(slovo)\n",
        "\n",
        "if delka == 2:\n",
        "  if slovo in slovnik:\n",
        "    slovnik[delka].append(slovo)\n",
        "  else:\n",
        "    slovnik[delka] = []\n",
        "    slovnik[delka].append(slovo)\n",
        "else:\n",
        "  print(\"Pro toto slovo nemame list\")"
      ],
      "execution_count": 4,
      "outputs": [
        {
          "output_type": "stream",
          "text": [
            "zadej slovo: ok\n"
          ],
          "name": "stdout"
        }
      ]
    },
    {
      "cell_type": "code",
      "metadata": {
        "colab": {
          "base_uri": "https://localhost:8080/"
        },
        "id": "Mv38-j63UQ4o",
        "outputId": "89613d7b-59f2-4548-bbbf-f02b6cabe4c7"
      },
      "source": [
        "slovnik = dict()\n",
        "slovo = input(\"zadej slovo: \")\n",
        "delka = len(slovo)\n",
        "\n",
        "if delka == 2:\n",
        "    slovnik.setdefault(delka, []).append(slovo)\n",
        "else:\n",
        "  print(\"Pro toto slovo nemame list\")"
      ],
      "execution_count": 6,
      "outputs": [
        {
          "output_type": "stream",
          "text": [
            "zadej slovo: ok\n"
          ],
          "name": "stdout"
        }
      ]
    },
    {
      "cell_type": "code",
      "metadata": {
        "id": "RXYhNXzfUzi_"
      },
      "source": [
        "slovnik = dict()\n",
        "slovnik[\"k\"] = slovnik.get(\"k\", \"Neni tam\")"
      ],
      "execution_count": 11,
      "outputs": []
    },
    {
      "cell_type": "code",
      "metadata": {
        "colab": {
          "base_uri": "https://localhost:8080/"
        },
        "id": "yMG65iIXUk6u",
        "outputId": "b2e6f0de-f333-48d1-d81d-14c91b5534e1"
      },
      "source": [
        "slovnik"
      ],
      "execution_count": 12,
      "outputs": [
        {
          "output_type": "execute_result",
          "data": {
            "text/plain": [
              "{'k': 'Neni tam'}"
            ]
          },
          "metadata": {
            "tags": []
          },
          "execution_count": 12
        }
      ]
    },
    {
      "cell_type": "code",
      "metadata": {
        "id": "bZ3SQZqeVU7m"
      },
      "source": [
        "slovnik.setdefault(\"l\", []).append(98)"
      ],
      "execution_count": 15,
      "outputs": []
    },
    {
      "cell_type": "code",
      "metadata": {
        "colab": {
          "base_uri": "https://localhost:8080/"
        },
        "id": "X6wVEikzVfEx",
        "outputId": "c7c2d29b-fedb-4c59-a3d9-2110728a4843"
      },
      "source": [
        "slovnik"
      ],
      "execution_count": 16,
      "outputs": [
        {
          "output_type": "execute_result",
          "data": {
            "text/plain": [
              "{'k': 'Neni tam', 'l': [98]}"
            ]
          },
          "metadata": {
            "tags": []
          },
          "execution_count": 16
        }
      ]
    },
    {
      "cell_type": "code",
      "metadata": {
        "colab": {
          "base_uri": "https://localhost:8080/"
        },
        "id": "xm5bpHMLSYRI",
        "outputId": "9ecf99ce-e33f-484b-bf6b-c8d37d8fd18a"
      },
      "source": [
        "slovnik = dict()\n",
        "#zadat slovo do pythonu\n",
        "slovo=input('zadej slovo o delce 2-5 znaku: ')\n",
        "delka=len(slovo)\n",
        "if (delka>=2) and (delka<=5):\n",
        "  slovnik.setdefault(delka, []).append(slovo)\n",
        "  print(f'Vysledny slovnik je: {slovnik}')\n",
        "else:\n",
        "  print('Zadane slovo nema pozadovanou delku')"
      ],
      "execution_count": 18,
      "outputs": [
        {
          "output_type": "stream",
          "text": [
            "zadej slovo o delce 2-5 znaku: koleno\n",
            "Zadane slovo nema pozadovanou delku\n"
          ],
          "name": "stdout"
        }
      ]
    },
    {
      "cell_type": "code",
      "metadata": {
        "id": "Qav4kLrOS1mu"
      },
      "source": [
        "#1 zadat slovo\n",
        "slovo = input('zadej slovo od 2 do 5 pismen: ')\n",
        "#2 vytvoreni slovniku\n",
        "slovnik = dict()\n",
        "slovnik = {'2':{}, '3':{}, '4':{}, '5':{}}\n",
        "if len(slovo) == 2:\n",
        "    slovnik['2'] = slovo\n",
        "elif len(slovo) == 3:\n",
        "    slovnik['3'] = slovo\n",
        "elif len(slovo) == 4:\n",
        "    slovnik['4'] = slovo\n",
        "elif len(slovo) == 5:\n",
        "    slovnik['5'] = slovo\n",
        "else:\n",
        "    print('neco je spatne')\n",
        "    exit()\n",
        "print(slovnik)"
      ],
      "execution_count": null,
      "outputs": []
    },
    {
      "cell_type": "code",
      "metadata": {
        "id": "DPWtpVN_S7-x"
      },
      "source": [
        "slovnik = dict()\n",
        "slovnik[“2”] = []\n",
        "slovnik[“3\"] = []\n",
        "slovnik[“4”] = []\n",
        "slovnik[“5\"] = []\n",
        "slovo = input(“zadej slovo, které bude mít 2-5 písmen: “)\n",
        "if len(slovo) == 2:\n",
        "    slovnik[“2”] = slovo\n",
        "elif len(slovo) == 3:\n",
        "    slovnik[“3\"] = slovo\n",
        "elif len(slovo) == 4:\n",
        "    slovnik[“4”] = slovo\n",
        "elif len(slovo) == 5:\n",
        "    slovnik[“5\"] = slovo\n",
        "else:\n",
        "    print(“Špatná délka slova. Konec”)\n",
        "print(“Slovnik: “, slovnik)"
      ],
      "execution_count": null,
      "outputs": []
    },
    {
      "cell_type": "code",
      "metadata": {
        "colab": {
          "base_uri": "https://localhost:8080/"
        },
        "id": "aAfq5t8XTHGL",
        "outputId": "d3a1c193-d06e-4b6c-f51d-ad02ac4ac107"
      },
      "source": [
        "slovnik = {2:[],3:[],4:[],5:[]}\n",
        "slovo = input(\"Slovo: \")\n",
        "delka_slova = len(slovo)\n",
        "if 1 < delka_slova < 6:\n",
        "  slovnik[delka_slova].append(slovo)\n",
        "  print(slovnik)\n",
        "else:\n",
        "  print(\"špatná délka slova\")"
      ],
      "execution_count": 19,
      "outputs": [
        {
          "output_type": "stream",
          "text": [
            "Slovo: pole\n",
            "{2: [], 3: [], 4: ['pole'], 5: []}\n"
          ],
          "name": "stdout"
        }
      ]
    },
    {
      "cell_type": "code",
      "metadata": {
        "id": "3XUKSBY9XHN0"
      },
      "source": [
        "slovnik = slovnik.fromkeys(pocet_pismen,[])"
      ],
      "execution_count": 25,
      "outputs": []
    },
    {
      "cell_type": "code",
      "metadata": {
        "colab": {
          "base_uri": "https://localhost:8080/"
        },
        "id": "J6qXPDyYXMIn",
        "outputId": "f5e1d401-120a-4e8c-8a5f-2289ed764ad1"
      },
      "source": [
        "slovnik.fromkeys(pocet_pismen,[])"
      ],
      "execution_count": 13,
      "outputs": [
        {
          "output_type": "execute_result",
          "data": {
            "text/plain": [
              "{2: [], 3: [], 4: [], 5: []}"
            ]
          },
          "metadata": {
            "tags": []
          },
          "execution_count": 13
        }
      ]
    },
    {
      "cell_type": "code",
      "metadata": {
        "colab": {
          "base_uri": "https://localhost:8080/"
        },
        "id": "pnDCj7Rab4PT",
        "outputId": "d0ad9757-8774-45c4-b306-50d4bd121273"
      },
      "source": [
        "pocet_pismen = (2,3,4,5)\n",
        "slovnik = dict.fromkeys(pocet_pismen,[])\n",
        "slova = [\"Nejkrasnejsi\", \"tuzka\", \"okno\", \"status\"]\n",
        "for slovo in slova:\n",
        "  slovnik.setdefault(len(slovo), []).append(slovo)\n",
        "print(slovnik)"
      ],
      "execution_count": 14,
      "outputs": [
        {
          "output_type": "stream",
          "text": [
            "{2: ['tuzka', 'okno'], 3: ['tuzka', 'okno'], 4: ['tuzka', 'okno'], 5: ['tuzka', 'okno'], 12: ['Nejkrasnejsi'], 6: ['status']}\n"
          ],
          "name": "stdout"
        }
      ]
    },
    {
      "cell_type": "code",
      "metadata": {
        "colab": {
          "base_uri": "https://localhost:8080/"
        },
        "id": "PQZOXnuOWwSQ",
        "outputId": "852e6eca-fe85-4833-f5c5-21d80f103a6a"
      },
      "source": [
        "pocet_pismen = (2,3,4,5)\n",
        "slovnik = dict.fromkeys(pocet_pismen,[])\n",
        "\n",
        "print(slovnik)\n",
        "\n",
        "slovo = input(\"Zadej slovo: \")\n",
        "if len(slovo) == 2:\n",
        "  print(\"2\")\n",
        "  slovnik[2].append(slovo)\n",
        "elif len(slovo) == 3:\n",
        "  print(\"3\")\n",
        "  slovnik[3].append(slovo)\n",
        "elif len(slovo) == 4:\n",
        "  slovnik[4].append(slovo)\n",
        "elif len(slovo) == 5:\n",
        "  slovnik[5].append(slovo)\n",
        "else:\n",
        "  print(\"Neexistuje\")\n",
        "slovnik"
      ],
      "execution_count": 12,
      "outputs": [
        {
          "output_type": "stream",
          "text": [
            "{2: [], 3: [], 4: [], 5: []}\n",
            "Zadej slovo: pole\n"
          ],
          "name": "stdout"
        },
        {
          "output_type": "execute_result",
          "data": {
            "text/plain": [
              "{2: ['pole'], 3: ['pole'], 4: ['pole'], 5: ['pole']}"
            ]
          },
          "metadata": {
            "tags": []
          },
          "execution_count": 12
        }
      ]
    },
    {
      "cell_type": "code",
      "metadata": {
        "colab": {
          "base_uri": "https://localhost:8080/"
        },
        "id": "slg_ieFEW64W",
        "outputId": "f4248cdc-f5ed-447c-81ca-708118ec7fde"
      },
      "source": [
        "slova = [\"Nejkrasnejsi\", \"tuzka\", \"okno\", \"status\"]\n",
        "\n",
        "for slovo in slova:\n",
        "  print(slovo)"
      ],
      "execution_count": 5,
      "outputs": [
        {
          "output_type": "stream",
          "text": [
            "Nejkrasnejsi\n",
            "tuzka\n",
            "okno\n",
            "status\n"
          ],
          "name": "stdout"
        }
      ]
    },
    {
      "cell_type": "code",
      "metadata": {
        "colab": {
          "base_uri": "https://localhost:8080/"
        },
        "id": "Q5AEem19Zi0S",
        "outputId": "a6b351c2-d642-42be-8cbc-3b6adecd110e"
      },
      "source": [
        "slovnik = dict()\n",
        "slova = [\"Nejkrasnejsi\", \"tuzka\", \"okno\", \"status\"]\n",
        "for slovo in slova:\n",
        "  slovnik.setdefault(len(slovo), []).append(slovo)\n",
        "print(slovnik)"
      ],
      "execution_count": 10,
      "outputs": [
        {
          "output_type": "stream",
          "text": [
            "{12: ['Nejkrasnejsi'], 5: ['tuzka'], 4: ['okno'], 6: ['status']}\n"
          ],
          "name": "stdout"
        }
      ]
    },
    {
      "cell_type": "code",
      "metadata": {
        "colab": {
          "base_uri": "https://localhost:8080/"
        },
        "id": "biW-Ah-_bBT1",
        "outputId": "861fcaf2-4616-4a2a-d11b-85555bcc9703"
      },
      "source": [
        "print(slovo)"
      ],
      "execution_count": 11,
      "outputs": [
        {
          "output_type": "stream",
          "text": [
            "status\n"
          ],
          "name": "stdout"
        }
      ]
    },
    {
      "cell_type": "code",
      "metadata": {
        "id": "yOL6WWY1arLG"
      },
      "source": [
        "if len(slova) > 10:\n",
        "  print(slova)\n",
        "\n",
        "for neco in vnecem:\n",
        "   print(slova)\n",
        "\n",
        "def .....():\n",
        "  print(\"ahoj\")\n",
        "\n",
        "while ......:\n",
        "  print()\n"
      ],
      "execution_count": null,
      "outputs": []
    }
  ]
}